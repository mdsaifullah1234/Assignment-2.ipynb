{
 "cells": [
  {
   "attachments": {},
   "cell_type": "markdown",
   "metadata": {},
   "source": [
    "Q1. How do you comment code in Python? What are the different types of comments?"
   ]
  },
  {
   "attachments": {},
   "cell_type": "markdown",
   "metadata": {},
   "source": [
    "ANSWER :  In Python, you can add comments to your code to provide explanations or make notes. Comments are lines of code that are ignored by the Python interpreter when executing the program. They are meant for human readers to understand the code better. Python supports two types of comments:\n",
    "\n",
    "1)  Single-line comments: Single-line comments start with the hash symbol (#) and continue until the end of the line. Anything written after the hash symbol is considered a comment and is ignored by the interpreter. Here's an example:"
   ]
  },
  {
   "cell_type": "code",
   "execution_count": 1,
   "metadata": {},
   "outputs": [
    {
     "name": "stdout",
     "output_type": "stream",
     "text": [
      "Hello, World!\n"
     ]
    }
   ],
   "source": [
    "# This is a single-line comment\n",
    "print(\"Hello, World!\")  # This is also a comment\n"
   ]
  },
  {
   "attachments": {},
   "cell_type": "markdown",
   "metadata": {},
   "source": [
    "2 )  Multi-line comments: Multi-line comments, also known as block comments, allow you to comment on multiple lines of code. Python doesn't have a specific syntax for multi-line comments like some other programming languages. Instead, you can use triple quotes (''' or \"\"\") to enclose the comment block. Although the interpreter doesn't execute the code within the block, it can be used for documentation purposes or temporarily disabling blocks of code. Here's an example:"
   ]
  },
  {
   "cell_type": "code",
   "execution_count": 2,
   "metadata": {},
   "outputs": [
    {
     "name": "stdout",
     "output_type": "stream",
     "text": [
      "Hello, World!\n"
     ]
    }
   ],
   "source": [
    "'''\n",
    "This is a multi-line comment.\n",
    "You can write multiple lines here.\n",
    "'''\n",
    "print(\"Hello, World!\")\n"
   ]
  },
  {
   "attachments": {},
   "cell_type": "markdown",
   "metadata": {},
   "source": [
    "Q2. What are variables in Python? How do you declare and assign values to variables?"
   ]
  },
  {
   "attachments": {},
   "cell_type": "markdown",
   "metadata": {},
   "source": [
    "ANSWER :  In Python, variables are used to store data values. They act as containers that hold values of different types, such as numbers, strings, lists, or other objects. Variables allow you to manipulate and refer to these values throughout your program.\n",
    "\n",
    "To declare and assign a value to a variable in Python, you simply need to use the assignment operator (=). Here's an example:"
   ]
  },
  {
   "cell_type": "code",
   "execution_count": 3,
   "metadata": {},
   "outputs": [
    {
     "name": "stdout",
     "output_type": "stream",
     "text": [
      "John\n",
      "25\n",
      "3.14\n"
     ]
    }
   ],
   "source": [
    "# Variable declaration and assignment\n",
    "name = \"John\"\n",
    "age = 25\n",
    "pi = 3.14\n",
    "\n",
    "# Printing the values of variables\n",
    "print(name)  # Output: John\n",
    "print(age)   # Output: 25\n",
    "print(pi)    # Output: 3.14\n"
   ]
  },
  {
   "attachments": {},
   "cell_type": "markdown",
   "metadata": {},
   "source": [
    "Q3. How do you convert one data type to another in Python?"
   ]
  },
  {
   "attachments": {},
   "cell_type": "markdown",
   "metadata": {},
   "source": [
    "ANSWER :  In Python, you can convert one data type to another using built-in functions or constructors. Here are some commonly used methods for type conversion:"
   ]
  },
  {
   "cell_type": "code",
   "execution_count": 16,
   "metadata": {},
   "outputs": [
    {
     "name": "stdout",
     "output_type": "stream",
     "text": [
      "10\n",
      "10.0\n",
      "10\n",
      "['H', 'e', 'l', 'l', 'o']\n",
      "('H', 'e', 'l', 'l', 'o')\n",
      "True\n",
      "False\n",
      "My name is John and I'm 25 years old.\n"
     ]
    }
   ],
   "source": [
    "x = 10\n",
    "y = float(x)  # Convert x to a float: 10.0\n",
    "z = str(x)    # Convert x to a string: \"10\"\n",
    "print(x)\n",
    "print(y)\n",
    "print(z)\n",
    "\n",
    "s = \"Hello\"\n",
    "lst = list(s)     # Convert s to a list: ['H', 'e', 'l', 'l', 'o']\n",
    "tpl = tuple(s)    # Convert s to a tuple: ('H', 'e', 'l', 'l', 'o')\n",
    "print(lst)\n",
    "print(tpl)\n",
    "\n",
    "x = 10\n",
    "y = bool(x)      # Convert x to a boolean: True\n",
    "\n",
    "z = 0\n",
    "w = bool(z)      # Convert z to a boolean: False\n",
    "print(y)\n",
    "print(w)\n",
    "\n",
    "\n",
    "name = \"John\"\n",
    "age = 25\n",
    "\n",
    "info = \"My name is {} and I'm {} years old.\".format(name, age)\n",
    "print(info)   # Output: My name is John and I'm 25 years old.\n"
   ]
  },
  {
   "attachments": {},
   "cell_type": "markdown",
   "metadata": {},
   "source": [
    "Q4. How do you write and execute a Python script from the command line?"
   ]
  },
  {
   "attachments": {},
   "cell_type": "markdown",
   "metadata": {},
   "source": [
    "To write and execute a Python script from the command line, you can follow these steps:\n",
    "\n",
    "Open a text editor and create a new file. Enter your Python code in the file, saving it with a .py extension. For example, you can create a file named myscript.py and write your code in it.\n",
    "\n",
    "Open a command prompt or terminal window and navigate to the directory where your Python script is saved. Use the cd command (change directory) to move to the appropriate location.\n",
    "\n",
    "Once you're in the correct directory, you can execute the Python script by typing python followed by the name of the script file. For example:"
   ]
  },
  {
   "cell_type": "code",
   "execution_count": null,
   "metadata": {},
   "outputs": [],
   "source": [
    "myscript.py\n"
   ]
  },
  {
   "attachments": {},
   "cell_type": "markdown",
   "metadata": {},
   "source": [
    "Replace myscript.py with the actual name of your script file.\n",
    "\n",
    "Press the Enter key to run the command. The Python interpreter will execute the script, and any output or results will be displayed in the command prompt or terminal window."
   ]
  },
  {
   "attachments": {},
   "cell_type": "markdown",
   "metadata": {},
   "source": [
    "Q5. Given a list my_list = [1, 2, 3, 4, 5], write the code to slice the list and obtain the sub-list [2, 3]."
   ]
  },
  {
   "cell_type": "code",
   "execution_count": 19,
   "metadata": {},
   "outputs": [
    {
     "name": "stdout",
     "output_type": "stream",
     "text": [
      "[2, 3]\n"
     ]
    }
   ],
   "source": [
    "my_list = [1, 2, 3, 4, 5]\n",
    "sub_list = my_list[1:3]\n",
    "print(sub_list)\n"
   ]
  },
  {
   "attachments": {},
   "cell_type": "markdown",
   "metadata": {},
   "source": [
    "Q6. What is a complex number in mathematics, and how is it represented in Python?"
   ]
  },
  {
   "attachments": {},
   "cell_type": "markdown",
   "metadata": {},
   "source": [
    "In Python, complex numbers are supported as a built-in data type. They are represented using the syntax a + bj, where a is the real part, b is the imaginary part, and j represents the imaginary unit. Here's an example:"
   ]
  },
  {
   "cell_type": "code",
   "execution_count": 20,
   "metadata": {},
   "outputs": [
    {
     "name": "stdout",
     "output_type": "stream",
     "text": [
      "(2+3j)\n"
     ]
    }
   ],
   "source": [
    "# Creating a complex number\n",
    "z = 2 + 3j\n",
    "print(z)  # Output: (2+3j)\n"
   ]
  },
  {
   "attachments": {},
   "cell_type": "markdown",
   "metadata": {},
   "source": [
    "Q7. What is the correct way to declare a variable named age and assign the value 25 to it?"
   ]
  },
  {
   "cell_type": "code",
   "execution_count": 21,
   "metadata": {},
   "outputs": [],
   "source": [
    "age = 25\n"
   ]
  },
  {
   "attachments": {},
   "cell_type": "markdown",
   "metadata": {},
   "source": [
    "Q8. Declare a variable named price and assign the value 9.99 to it. What data type does this variable\n",
    "belong to?"
   ]
  },
  {
   "cell_type": "code",
   "execution_count": 22,
   "metadata": {},
   "outputs": [],
   "source": [
    "price = 9.99\n",
    "\n",
    "#floating-point number"
   ]
  },
  {
   "attachments": {},
   "cell_type": "markdown",
   "metadata": {},
   "source": [
    "Q9. Create a variable named name and assign your full name to it as a string. How would you print the\n",
    "value of this variable?"
   ]
  },
  {
   "cell_type": "code",
   "execution_count": 23,
   "metadata": {},
   "outputs": [
    {
     "name": "stdout",
     "output_type": "stream",
     "text": [
      "md saifullah\n"
     ]
    }
   ],
   "source": [
    "name = \"md saifullah\"\n",
    "print(name)\n"
   ]
  },
  {
   "attachments": {},
   "cell_type": "markdown",
   "metadata": {},
   "source": [
    "Q10. Given the string \"Hello, World!\", extract the substring \"World\"."
   ]
  },
  {
   "cell_type": "code",
   "execution_count": 24,
   "metadata": {},
   "outputs": [
    {
     "name": "stdout",
     "output_type": "stream",
     "text": [
      "World\n"
     ]
    }
   ],
   "source": [
    "s = \"Hello, World!\"\n",
    "substring = s[7:12]\n",
    "print(substring)\n"
   ]
  },
  {
   "attachments": {},
   "cell_type": "markdown",
   "metadata": {},
   "source": [
    "Q11. Create a variable named \"is_student\" and assign it a boolean value indicating whether you are\n",
    "currently a student or not."
   ]
  },
  {
   "cell_type": "code",
   "execution_count": 25,
   "metadata": {},
   "outputs": [],
   "source": [
    "is_student = True\n"
   ]
  }
 ],
 "metadata": {
  "kernelspec": {
   "display_name": "Python 3",
   "language": "python",
   "name": "python3"
  },
  "language_info": {
   "codemirror_mode": {
    "name": "ipython",
    "version": 3
   },
   "file_extension": ".py",
   "mimetype": "text/x-python",
   "name": "python",
   "nbconvert_exporter": "python",
   "pygments_lexer": "ipython3",
   "version": "3.11.3"
  },
  "orig_nbformat": 4
 },
 "nbformat": 4,
 "nbformat_minor": 2
}
